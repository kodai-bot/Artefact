{
 "cells": [
  {
   "cell_type": "code",
   "execution_count": null,
   "metadata": {},
   "outputs": [],
   "source": [
    "from scipy.spatial import Voronoi, voronoi_plot_2d\n",
    "import matplotlib.pyplot as plt"
   ]
  },
  {
   "cell_type": "code",
   "execution_count": null,
   "metadata": {},
   "outputs": [],
   "source": []
  },
  {
   "cell_type": "code",
   "execution_count": null,
   "metadata": {},
   "outputs": [],
   "source": [
    "# Assuming `monuments` is a GeoDataFrame with your monuments data\n",
    "# Extract the x and y coordinates from the geometry\n",
    "points = np.array([monument.geometry.coords[0] for monument in monuments])\n",
    "\n",
    "# Compute Voronoi tesselation\n",
    "vor = Voronoi(points)\n",
    "\n",
    "# Plot\n",
    "voronoi_plot_2d(vor)\n",
    "plt.show()"
   ]
  }
 ],
 "metadata": {
  "language_info": {
   "name": "python"
  }
 },
 "nbformat": 4,
 "nbformat_minor": 2
}
