{
 "cells": [
  {
   "cell_type": "code",
   "execution_count": 1,
   "metadata": {},
   "outputs": [],
   "source": [
    "from scipy.spatial import Voronoi, voronoi_plot_2d\n",
    "import matplotlib.pyplot as plt\n",
    "import numpy as np\n",
    "import geopandas as gpd\n",
    "\n",
    "import spacy\n",
    "from spacy import displacy\n",
    "from collections import Counter\n",
    "import en_core_web_sm\n",
    "nlp = en_core_web_sm.load()\n",
    "\n",
    "from sklearn.feature_extraction.text import CountVectorizer\n",
    "\n",
    "\n",
    "\n"
   ]
  },
  {
   "cell_type": "markdown",
   "metadata": {},
   "source": [
    "Feature Engineering of the Point data in Monuments. the aim is to enable the removal of the classification labels and the creation of meaningful features to allow ML training"
   ]
  },
  {
   "cell_type": "code",
   "execution_count": 2,
   "metadata": {},
   "outputs": [],
   "source": [
    "# Read in the data sites nw features\n"
   ]
  },
  {
   "cell_type": "code",
   "execution_count": 14,
   "metadata": {},
   "outputs": [
    {
     "data": {
      "text/plain": [
       "OID_          9485\n",
       "OBJECTID      9485\n",
       "ENTITY_ID     9485\n",
       "CLASS_CODE      82\n",
       "SMRS          9485\n",
       "COUNTY           4\n",
       "TOWNLAND      3758\n",
       "COUNTY_ID        4\n",
       "ZONE_ID       7631\n",
       "ITM_E         8729\n",
       "ITM_N         8647\n",
       "LATITUDE      9170\n",
       "LONGITUDE     9212\n",
       "MONUMENT_T      82\n",
       "FIRST_EDIT     307\n",
       "LATEST_EDI     826\n",
       "WEBSITE_LI    9485\n",
       "WEB_NOTES     8763\n",
       "geometry      9249\n",
       "dtype: int64"
      ]
     },
     "execution_count": 14,
     "metadata": {},
     "output_type": "execute_result"
    }
   ],
   "source": [
    "sites_nw_clean.nunique()\n"
   ]
  },
  {
   "cell_type": "code",
   "execution_count": 17,
   "metadata": {},
   "outputs": [
    {
     "data": {
      "text/plain": [
       "array(['Cairn - boundary cairn', 'Bawn', 'Ringfort - rath', 'Church',\n",
       "       'Cairn - unclassified', 'Castle - unclassified', 'Standing stone',\n",
       "       'Megalithic structure', 'Crannog', 'Souterrain',\n",
       "       'Megalithic tomb - portal tomb', 'Ritual site - holy well',\n",
       "       'Ringfort - cashel', 'Cross', 'Ringfort - unclassified',\n",
       "       'Barrow - unclassified', 'Megalithic tomb - unclassified',\n",
       "       'Ring-ditch', 'Stone row', 'Megalithic tomb - court tomb', 'Mound',\n",
       "       'Megalithic tomb - wedge tomb', 'Boundary mound', 'Ford',\n",
       "       'Castle - tower house', 'Hilltop enclosure', 'Stone circle',\n",
       "       'Promontory fort - inland', 'Megalithic tomb - passage tomb',\n",
       "       'Round tower', 'Ecclesiastical enclosure',\n",
       "       'Ecclesiastical residence', 'Cross-inscribed stone',\n",
       "       'Ceremonial enclosure', 'Enclosure - large enclosure',\n",
       "       'Cross - Market cross', 'Inscribed stone', 'Concentric enclosure',\n",
       "       'Settlement cluster', 'Linear earthwork',\n",
       "       \"Ritual site - holy/saint's stone\", 'Ogham stone',\n",
       "       'Cross - Wayside cross', 'Promontory fort - coastal',\n",
       "       'Cross - High cross', 'Cross - Churchyard cross', 'Holed stone',\n",
       "       'Castle - motte', 'Meeting-house', 'Castle - ringwork',\n",
       "       'Burial mound', 'Cairn - burial cairn', 'Burnt pit',\n",
       "       'Standing stone (present location)', 'Cross-inscribed pillar',\n",
       "       'Pillar stone', 'Cross - Tau cross', 'Leacht',\n",
       "       'Cross-slab (present location)', 'Barrow - ring-barrow',\n",
       "       'Standing stone - pair',\n",
       "       'Cross-inscribed pillar (present location)', 'Pit-burial',\n",
       "       'Hillfort', 'Cliff-edge fort', 'Stone circle - embanked',\n",
       "       'Cairn - clearance cairn', 'Barrow - pond barrow',\n",
       "       'Cross - High cross (present location)', 'Cairn - ring-cairn',\n",
       "       'Cairn - wayside cairn', 'Boundary stone', 'Barrow - mound barrow',\n",
       "       'Barrow - stepped barrow', 'Castle - hall-house',\n",
       "       'Barrow - bowl-barrow', 'Barrow - embanked barrow',\n",
       "       'Embanked enclosure', 'Barrow - ditch barrow',\n",
       "       'Cross (present location)', 'Boulder-burial', 'Battlefield'],\n",
       "      dtype=object)"
      ]
     },
     "execution_count": 17,
     "metadata": {},
     "output_type": "execute_result"
    }
   ],
   "source": [
    "sites_nw_clean['MONUMENT_T'].unique()\n"
   ]
  },
  {
   "cell_type": "code",
   "execution_count": 4,
   "metadata": {},
   "outputs": [
    {
     "data": {
      "text/plain": [
       "0       Marked only on the 1910 ed. of the OS 6-inch m...\n",
       "1       Marked only on the 1910 ed. of the OS 6-inch m...\n",
       "2       Marked only on the 1910 ed. of the OS 6-inch m...\n",
       "3       Marked only on the 1910 ed. of the OS 6-inch m...\n",
       "4       Davies (1948a, 115) recorded the site of a pla...\n",
       "                              ...                        \n",
       "9480    In pasture, on the level top of a low hill/dru...\n",
       "9481    In good coastal grassland, 1km S of Ballysadar...\n",
       "9482    In a rath (SL019-264001-), close to the NE arc...\n",
       "9483    In rough, rush-grown upland pasture, located o...\n",
       "9484    Reported by Jean-Charles Caillere; visible on ...\n",
       "Name: WEB_NOTES, Length: 9485, dtype: object"
      ]
     },
     "execution_count": 4,
     "metadata": {},
     "output_type": "execute_result"
    }
   ],
   "source": [
    "sites_nw_clean['WEB_NOTES']"
   ]
  },
  {
   "cell_type": "code",
   "execution_count": 5,
   "metadata": {},
   "outputs": [
    {
     "name": "stdout",
     "output_type": "stream",
     "text": [
      "bank 4731\n",
      "area 4719\n",
      "int 3927\n",
      "circular 3906\n",
      "diam 3599\n",
      "wth 3577\n",
      "5m 2904\n",
      "circular area 2825\n",
      "enclosed 2644\n",
      "earthen 2627\n",
      "pasture 2615\n",
      "raised 2475\n",
      "fosse 2452\n",
      "situated 2363\n",
      "stone 2224\n",
      "earthen bank 2208\n",
      "slope 2132\n",
      "facing 2094\n",
      "se 2059\n",
      "ne 2015\n",
      "os 1975\n",
      "sw 1969\n",
      "low 1956\n",
      "nw 1936\n",
      "area int 1857\n"
     ]
    }
   ],
   "source": [
    "# Initialize a CountVectorizer object\n",
    "vectorizer = CountVectorizer(stop_words='english', ngram_range=(1,2))\n",
    "\n",
    "# Fit and transform the WEB_NOTES column\n",
    "X = vectorizer.fit_transform(sites_nw_clean['WEB_NOTES'].values.astype('U'))\n",
    "\n",
    "# Get the feature names (words or phrases)\n",
    "feature_names = vectorizer.get_feature_names_out()\n",
    "\n",
    "# Sum up the counts of each feature (word or phrase)\n",
    "sum_words = X.sum(axis=0)\n",
    "\n",
    "# Create a dictionary of words/phrases and their counts\n",
    "words_freq = [(word, sum_words[0, idx]) for word, idx in zip(feature_names, list(range(X.shape[1])))]\n",
    "\n",
    "# Sort the words/phrases by their counts\n",
    "words_freq =sorted(words_freq, key = lambda x: x[1], reverse=True)\n",
    "\n",
    "# Print the 25 most common words/phrases\n",
    "for word, freq in words_freq[:25]:\n",
    "    print(word, freq)"
   ]
  },
  {
   "cell_type": "code",
   "execution_count": 12,
   "metadata": {},
   "outputs": [
    {
     "name": "stdout",
     "output_type": "stream",
     "text": [
      "299\n",
      "{'single banked': 5, 'double banked': 2, 'bivallate': 7, 'trivallate': 1, 'rectangular': 299, 'square': 43, 'round': 134, 'oval': 932, 'octagonal': 3, 'polygonal': 7, 'circular': 3906, 'subrectangular': 131, 'subcircular': 496, 'width': 96, 'length': 23, 'diameter': 112, 'height': 209, 'depth': 9, 'size': 14, 'dimension': 9, 'shape': 11, 'area': 4719, 'circumference': 6, 'perimeter': 191, 'radius': 2, 'thickness': 12, 'volume': 109, 'diam': 3599, 'entrance': 1082}\n"
     ]
    }
   ],
   "source": [
    "# Search for a specific word\n",
    "search_word = 'rectangular'\n",
    "for word, freq in words_freq:\n",
    "    if word == search_word:\n",
    "        print(freq)\n",
    "\n",
    "# Create a list of words/phrases to search for, and store it in a variable.\n",
    "\n",
    "search_words = ['single banked','double banked','triple banked','univallate','bivallate', 'trivallate', 'rectangular', 'square', 'round', 'oval', 'octagonal', 'hexagonal', 'polygonal', 'circular', 'subrectangular', 'suboval`.`', 'subcircular', 'quadrilateral', 'width', 'length', 'diameter', 'height', 'depth', 'size', 'dimension', 'shape', 'area', 'circumference', 'perimeter', 'diameter', 'radius', 'diagonal', 'width', 'length', 'height', 'depth', 'thickness', 'size', 'dimension', 'shape', 'area', 'volume', 'circumference', 'perimeter', 'diameter', 'radius', 'diagonal', 'width', 'length', 'height', 'depth', 'thickness', 'size', 'dimension', 'shape', 'area', 'volume', 'circumference', 'perimeter', 'diameter', 'radius', 'diagonal', 'width', 'length', 'height', 'depth', 'size', 'dimension', 'shape', 'area', 'volume', 'circumference', 'perimeter', 'diameter', 'radius', 'diagonal', 'width', 'length', 'height', 'depth', 'thickness', 'size', 'dimension', 'shape', 'area', 'volume', 'circumference', 'perimeter', 'diameter', 'radius', 'diagonal', 'width', 'length', 'height', 'depth', 'thickness', 'size', 'dimension', 'shape', 'area', 'volume', 'circumference', 'perimeter', 'diameter', 'radius', 'diagonal', 'diam', 'entrance']\n",
    "\n",
    "# Create a dictionary to store the counts of each word/phrase\n",
    "search_words_freq = {}\n",
    "\n",
    "# Loop through each word/phrase in the list\n",
    "for search_word in search_words:\n",
    "    # Loop through each word/phrase in the words_freq list\n",
    "    for word, freq in words_freq:\n",
    "        # If the word/phrase in the words_freq list matches the search word/phrase\n",
    "        if word == search_word:\n",
    "            # Add the word/phrase and its count to the dictionary\n",
    "            search_words_freq[search_word] = freq\n",
    "\n",
    "# Print the dictionary\n",
    "print(search_words_freq)\n",
    "\n",
    "\n",
    "\n"
   ]
  },
  {
   "cell_type": "code",
   "execution_count": 7,
   "metadata": {},
   "outputs": [
    {
     "ename": "NameError",
     "evalue": "name 'sample_entries' is not defined",
     "output_type": "error",
     "traceback": [
      "\u001b[0;31m---------------------------------------------------------------------------\u001b[0m",
      "\u001b[0;31mNameError\u001b[0m                                 Traceback (most recent call last)",
      "Cell \u001b[0;32mIn[7], line 4\u001b[0m\n\u001b[1;32m      1\u001b[0m \u001b[38;5;66;03m# implement a NER model to extract the dimensions and shapes of the sites\u001b[39;00m\n\u001b[0;32m----> 4\u001b[0m doc \u001b[38;5;241m=\u001b[39m nlp(\u001b[43msample_entries\u001b[49m\u001b[38;5;241m.\u001b[39miloc[\u001b[38;5;241m9477\u001b[39m])\n\u001b[1;32m      5\u001b[0m displacy\u001b[38;5;241m.\u001b[39mrender(doc, style\u001b[38;5;241m=\u001b[39m\u001b[38;5;124m\"\u001b[39m\u001b[38;5;124ment\u001b[39m\u001b[38;5;124m\"\u001b[39m)\n\u001b[1;32m      7\u001b[0m \u001b[38;5;28;01mfor\u001b[39;00m ent \u001b[38;5;129;01min\u001b[39;00m doc\u001b[38;5;241m.\u001b[39ments:\n",
      "\u001b[0;31mNameError\u001b[0m: name 'sample_entries' is not defined"
     ]
    }
   ],
   "source": []
  },
  {
   "cell_type": "code",
   "execution_count": null,
   "metadata": {},
   "outputs": [],
   "source": [
    "# Assuming `monuments` is a GeoDataFrame with your monuments data\n",
    "# Extract the x and y coordinates from the geometry\n",
    "points = np.array([monument.geometry.coords[0] for monument in monuments])\n",
    "\n",
    "# Compute Voronoi tesselation\n",
    "vor = Voronoi(points)\n",
    "\n",
    "# Plot\n",
    "voronoi_plot_2d(vor)\n",
    "plt.show()"
   ]
  }
 ],
 "metadata": {
  "kernelspec": {
   "display_name": "artefactenv",
   "language": "python",
   "name": "python3"
  },
  "language_info": {
   "codemirror_mode": {
    "name": "ipython",
    "version": 3
   },
   "file_extension": ".py",
   "mimetype": "text/x-python",
   "name": "python",
   "nbconvert_exporter": "python",
   "pygments_lexer": "ipython3",
   "version": "3.11.5"
  }
 },
 "nbformat": 4,
 "nbformat_minor": 2
}
