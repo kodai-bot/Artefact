{
 "cells": [
  {
   "cell_type": "markdown",
   "metadata": {},
   "source": []
  },
  {
   "cell_type": "markdown",
   "metadata": {},
   "source": [
    "Feature engineering of the monuments dataset.\n"
   ]
  },
  {
   "cell_type": "code",
   "execution_count": 6,
   "metadata": {},
   "outputs": [
    {
     "ename": "ModuleNotFoundError",
     "evalue": "No module named 'ArchaeTron'",
     "output_type": "error",
     "traceback": [
      "\u001b[0;31m---------------------------------------------------------------------------\u001b[0m",
      "\u001b[0;31mModuleNotFoundError\u001b[0m                       Traceback (most recent call last)",
      "\u001b[1;32m/Users/mensab/Documents/GitHub/Artefact/src/Colab/Feature_Engineering.ipynb Cell 3\u001b[0m line \u001b[0;36m1\n\u001b[1;32m     <a href='vscode-notebook-cell:/Users/mensab/Documents/GitHub/Artefact/src/Colab/Feature_Engineering.ipynb#W2sZmlsZQ%3D%3D?line=9'>10</a>\u001b[0m \u001b[39mimport\u001b[39;00m \u001b[39mre\u001b[39;00m\n\u001b[1;32m     <a href='vscode-notebook-cell:/Users/mensab/Documents/GitHub/Artefact/src/Colab/Feature_Engineering.ipynb#W2sZmlsZQ%3D%3D?line=10'>11</a>\u001b[0m \u001b[39mfrom\u001b[39;00m \u001b[39msklearn\u001b[39;00m\u001b[39m.\u001b[39;00m\u001b[39mfeature_extraction\u001b[39;00m\u001b[39m.\u001b[39;00m\u001b[39mtext\u001b[39;00m \u001b[39mimport\u001b[39;00m CountVectorizer\n\u001b[0;32m---> <a href='vscode-notebook-cell:/Users/mensab/Documents/GitHub/Artefact/src/Colab/Feature_Engineering.ipynb#W2sZmlsZQ%3D%3D?line=11'>12</a>\u001b[0m \u001b[39mfrom\u001b[39;00m \u001b[39mArchaeTron\u001b[39;00m\u001b[39m.\u001b[39;00m\u001b[39mFileManager\u001b[39;00m \u001b[39mimport\u001b[39;00m data_saver\n\u001b[1;32m     <a href='vscode-notebook-cell:/Users/mensab/Documents/GitHub/Artefact/src/Colab/Feature_Engineering.ipynb#W2sZmlsZQ%3D%3D?line=13'>14</a>\u001b[0m \u001b[39m# from src.ArchaeTron.GeoDataHandler import TextEntitySearch\u001b[39;00m\n",
      "\u001b[0;31mModuleNotFoundError\u001b[0m: No module named 'ArchaeTron'"
     ]
    }
   ],
   "source": [
    "import geopandas as gpd\n",
    "import matplotlib.pyplot as plt\n",
    "import pandas as pd\n",
    "import numpy as np\n",
    "import seaborn as sns\n",
    "import os\n",
    "import json\n",
    "import geoplot\n",
    "import pysal\n",
    "import re\n",
    "from sklearn.feature_extraction.text import CountVectorizer\n",
    "from ArchaeTron.FileManager import data_saver\n",
    "\n",
    "# from src.ArchaeTron.GeoDataHandler import TextEntitySearch"
   ]
  },
  {
   "cell_type": "code",
   "execution_count": 2,
   "metadata": {},
   "outputs": [
    {
     "data": {
      "text/plain": [
       "Index(['OID_', 'OBJECTID', 'ENTITY_ID', 'CLASS_CODE', 'SMRS', 'COUNTY',\n",
       "       'TOWNLAND', 'COUNTY_ID', 'ZONE_ID', 'ITM_E', 'ITM_N', 'LATITUDE',\n",
       "       'LONGITUDE', 'MONUMENT_T', 'FIRST_EDIT', 'LATEST_EDI', 'WEBSITE_LI',\n",
       "       'WEB_NOTES', 'geometry'],\n",
       "      dtype='object')"
      ]
     },
     "execution_count": 2,
     "metadata": {},
     "output_type": "execute_result"
    }
   ],
   "source": [
    "sites_nw_clean = gpd.read_file('/Users/mensab/Documents/GISMapFiles/Files1600/sites_nw_clean.shp')\n",
    "sites_nw_clean.columns\n"
   ]
  },
  {
   "cell_type": "code",
   "execution_count": 3,
   "metadata": {},
   "outputs": [
    {
     "data": {
      "text/plain": [
       "<bound method DataFrame.info of         OID_  OBJECTID ENTITY_ID CLASS_CODE           SMRS   COUNTY  \\\n",
       "0       2325      2325   LE00212       BOCA  LE004-021----  LEITRIM   \n",
       "1       5325      5325   LE00213       BOCA  LE004-022----  LEITRIM   \n",
       "2       5326      5326   LE00214       BOCA  LE004-023----  LEITRIM   \n",
       "3       7588      7588   LE00215       BOCA  LE004-024----  LEITRIM   \n",
       "4      19549     19549   CV01168       BAWN  CV025-098002-    CAVAN   \n",
       "...      ...       ...       ...        ...            ...      ...   \n",
       "9480  162057    162057   SL07570       RATH  SL039-169----    SLIGO   \n",
       "9481  162060    162060   SL07572       RATH  SL019-264001-    SLIGO   \n",
       "9482  162061    162061   SL07573       SOUT  SL019-264002-    SLIGO   \n",
       "9483  162073    162073   SL07578       RATH  SL034-266----    SLIGO   \n",
       "9484  162383    162383   LE02706       COEN  LE035-046----  LEITRIM   \n",
       "\n",
       "                                               TOWNLAND  COUNTY_ID  ZONE_ID  \\\n",
       "0                                    CULLIONBOY,GUBINEA         16      NaN   \n",
       "1                                    CULLIONBOY,GUBINEA         16      NaN   \n",
       "2                              LECKANARAINEY,CULLIONBOY         16      NaN   \n",
       "3                              LECKANARAINEY,MEENAGRAUN         16      NaN   \n",
       "4                                             MOYNEHALL          3  R170292   \n",
       "...                                                 ...        ...      ...   \n",
       "9480                                     LISSANANNY BEG         25  R191563   \n",
       "9481  CARROWNACREEVY (Tireragh By., Dromard East ED)...         25  R191564   \n",
       "9482                                       TANREGO WEST         25  R191564   \n",
       "9483                                           LAHARDAN         25  R191567   \n",
       "9484                                        GORTNALAMPH         16  R192256   \n",
       "\n",
       "       ITM_E   ITM_N   LATITUDE  LONGITUDE              MONUMENT_T  \\\n",
       "0     584601  848442  54.384370  -8.237059  Cairn - boundary cairn   \n",
       "1     584582  848323  54.383300  -8.237346  Cairn - boundary cairn   \n",
       "2     585017  848121  54.381498  -8.230639  Cairn - boundary cairn   \n",
       "3     585422  848309  54.383199  -8.224414  Cairn - boundary cairn   \n",
       "4     642451  802309  53.968325  -7.353012                    Bawn   \n",
       "...      ...     ...        ...        ...                     ...   \n",
       "9480  566226  812577  54.061228  -8.515890         Ringfort - rath   \n",
       "9481  559027  831040  54.226599  -8.628353         Ringfort - rath   \n",
       "9482  559041  831040  54.226600  -8.628138              Souterrain   \n",
       "9483  578847  815947  54.092182  -8.323347         Ringfort - rath   \n",
       "9484  606824  793935  53.894772  -7.896180    Concentric enclosure   \n",
       "\n",
       "         FIRST_EDIT      LATEST_EDI  \\\n",
       "0     Not indicated  Pile of Stones   \n",
       "1     Not indicated  Pile of Stones   \n",
       "2     Not indicated  Pile of Stones   \n",
       "3     Not indicated  Pile of Stones   \n",
       "4     Not indicated   Not indicated   \n",
       "...             ...             ...   \n",
       "9480  Not indicated   Not indicated   \n",
       "9481  Not indicated   Not indicated   \n",
       "9482  Not indicated   Not indicated   \n",
       "9483  Not indicated   Not indicated   \n",
       "9484  Not indicated   Not indicated   \n",
       "\n",
       "                                             WEBSITE_LI  \\\n",
       "0     https://maps.archaeology.ie/HistoricEnvironmen...   \n",
       "1     https://maps.archaeology.ie/HistoricEnvironmen...   \n",
       "2     https://maps.archaeology.ie/HistoricEnvironmen...   \n",
       "3     https://maps.archaeology.ie/HistoricEnvironmen...   \n",
       "4     https://maps.archaeology.ie/HistoricEnvironmen...   \n",
       "...                                                 ...   \n",
       "9480  https://maps.archaeology.ie/HistoricEnvironmen...   \n",
       "9481  https://maps.archaeology.ie/HistoricEnvironmen...   \n",
       "9482  https://maps.archaeology.ie/HistoricEnvironmen...   \n",
       "9483  https://maps.archaeology.ie/HistoricEnvironmen...   \n",
       "9484  https://maps.archaeology.ie/HistoricEnvironmen...   \n",
       "\n",
       "                                              WEB_NOTES  \\\n",
       "0     Marked only on the 1910 ed. of the OS 6-inch m...   \n",
       "1     Marked only on the 1910 ed. of the OS 6-inch m...   \n",
       "2     Marked only on the 1910 ed. of the OS 6-inch m...   \n",
       "3     Marked only on the 1910 ed. of the OS 6-inch m...   \n",
       "4     Davies (1948a, 115) recorded the site of a pla...   \n",
       "...                                                 ...   \n",
       "9480  In pasture, on the level top of a low hill/dru...   \n",
       "9481  In good coastal grassland, 1km S of Ballysadar...   \n",
       "9482  In a rath (SL019-264001-), close to the NE arc...   \n",
       "9483  In rough, rush-grown upland pasture, located o...   \n",
       "9484  Reported by Jean-Charles Caillere; visible on ...   \n",
       "\n",
       "                           geometry  \n",
       "0     POINT (584601.000 848442.000)  \n",
       "1     POINT (584582.000 848323.000)  \n",
       "2     POINT (585017.000 848121.000)  \n",
       "3     POINT (585422.000 848309.000)  \n",
       "4     POINT (642451.000 802309.000)  \n",
       "...                             ...  \n",
       "9480  POINT (566226.000 812577.000)  \n",
       "9481  POINT (559027.000 831040.000)  \n",
       "9482  POINT (559041.000 831040.000)  \n",
       "9483  POINT (578847.000 815947.000)  \n",
       "9484  POINT (606824.000 793935.000)  \n",
       "\n",
       "[9485 rows x 19 columns]>"
      ]
     },
     "execution_count": 3,
     "metadata": {},
     "output_type": "execute_result"
    }
   ],
   "source": [
    "sites_nw_clean.info"
   ]
  },
  {
   "cell_type": "code",
   "execution_count": 4,
   "metadata": {},
   "outputs": [
    {
     "data": {
      "text/plain": [
       "0       Marked only on the 1910 ed. of the OS 6-inch m...\n",
       "1       Marked only on the 1910 ed. of the OS 6-inch m...\n",
       "2       Marked only on the 1910 ed. of the OS 6-inch m...\n",
       "3       Marked only on the 1910 ed. of the OS 6-inch m...\n",
       "4       Davies (1948a, 115) recorded the site of a pla...\n",
       "                              ...                        \n",
       "9480    In pasture, on the level top of a low hill/dru...\n",
       "9481    In good coastal grassland, 1km S of Ballysadar...\n",
       "9482    In a rath (SL019-264001-), close to the NE arc...\n",
       "9483    In rough, rush-grown upland pasture, located o...\n",
       "9484    Reported by Jean-Charles Caillere; visible on ...\n",
       "Name: WEB_NOTES, Length: 9485, dtype: object"
      ]
     },
     "execution_count": 4,
     "metadata": {},
     "output_type": "execute_result"
    }
   ],
   "source": [
    "sites_nw_clean['WEB_NOTES']\n"
   ]
  },
  {
   "cell_type": "code",
   "execution_count": 5,
   "metadata": {},
   "outputs": [
    {
     "name": "stdout",
     "output_type": "stream",
     "text": [
      "bank 4731\n",
      "area 4719\n",
      "int 3927\n",
      "circular 3906\n",
      "diam 3599\n",
      "wth 3577\n",
      "5m 2904\n",
      "circular area 2825\n",
      "enclosed 2644\n",
      "earthen 2627\n",
      "pasture 2615\n",
      "raised 2475\n",
      "fosse 2452\n",
      "situated 2363\n",
      "stone 2224\n",
      "earthen bank 2208\n",
      "slope 2132\n",
      "facing 2094\n",
      "se 2059\n",
      "ne 2015\n",
      "os 1975\n",
      "sw 1969\n",
      "low 1956\n",
      "nw 1936\n",
      "area int 1857\n"
     ]
    }
   ],
   "source": [
    "# Initialize a CountVectorizer object\n",
    "vectorizer = CountVectorizer(stop_words='english', ngram_range=(1,2))\n",
    "\n",
    "# Fit and transform the WEB_NOTES column\n",
    "X = vectorizer.fit_transform(sites_nw_clean['WEB_NOTES'].values.astype('U'))\n",
    "\n",
    "# Get the feature names (words or phrases)\n",
    "feature_names = vectorizer.get_feature_names_out()\n",
    "\n",
    "# Sum up the counts of each feature (word or phrase)\n",
    "sum_words = X.sum(axis=0)\n",
    "\n",
    "# Create a dictionary of words/phrases and their counts\n",
    "words_freq = [(word, sum_words[0, idx]) for word, idx in zip(feature_names, list(range(X.shape[1])))]\n",
    "\n",
    "# Sort the words/phrases by their counts\n",
    "words_freq =sorted(words_freq, key = lambda x: x[1], reverse=True)\n",
    "\n",
    "# Print the 10 most common words/phrases\n",
    "for word, freq in words_freq[:25]:\n",
    "    print(word, freq)"
   ]
  },
  {
   "cell_type": "code",
   "execution_count": 17,
   "metadata": {},
   "outputs": [
    {
     "name": "stdout",
     "output_type": "stream",
     "text": [
      "5       Raised circular area (int. diam 37.5m) enclose...\n",
      "11      On a broad rocky ridge in otherwise low-lying ...\n",
      "13      Raised circular area (int. diam. 54m) enclosed...\n",
      "15      Raised oval area (int. diam. 34.2m) enclosed b...\n",
      "17      Raised circular area (int. diam. 45m) enclosed...\n",
      "                              ...                        \n",
      "9472    Reported (5-10-2021) by Mr Aidan Harte, Projec...\n",
      "9475    Situated in the S part of the subrectangular C...\n",
      "9476    A small island (diam. c. 10m) is depicted only...\n",
      "9477    Located in a small U-shaped bay (dims c. 90m E...\n",
      "9484    Reported by Jean-Charles Caillere; visible on ...\n",
      "Name: WEB_NOTES, Length: 3595, dtype: object\n"
     ]
    }
   ],
   "source": [
    "# I wish to see sample WEB_NOTES entries that have the word diam or wth in them\n",
    "\n",
    "# Create a list of words/phrases to search for\n",
    "search_words = ['diam', 'wth']\n",
    "\n",
    "# Create a list of indices where the search words/phrases are found\n",
    "search_indices = []\n",
    "for i, note in enumerate(sites_nw_clean['WEB_NOTES']):\n",
    "    if any(word in note for word in search_words):\n",
    "        search_indices.append(i)\n",
    "\n",
    "# Display sample entries based on the found indices\n",
    "sample_entries = sites_nw_clean.loc[search_indices, 'WEB_NOTES']\n",
    "print(sample_entries)"
   ]
  },
  {
   "cell_type": "code",
   "execution_count": null,
   "metadata": {},
   "outputs": [],
   "source": [
    "# print these entries to a text file for further analysis\n",
    "\n"
   ]
  },
  {
   "cell_type": "code",
   "execution_count": 11,
   "metadata": {},
   "outputs": [],
   "source": [
    "# Use regex to extract both \"diam\" and \"wth\" and their respective diameters\n",
    "\n",
    "pattern_diam = r'diam(?:eter)?\\s*([\\d.]+)'\n",
    "pattern_wth = r'wth(?:\\s*is)?\\s*([\\d.]+)'\n",
    "\n",
    "sites_nw_clean['Diameter_diam'] = sites_nw_clean['WEB_NOTES'].str.extract(pattern_diam, flags=re.IGNORECASE)\n",
    "sites_nw_clean['Diameter_wth'] = sites_nw_clean['WEB_NOTES'].str.extract(pattern_wth, flags=re.IGNORECASE)\n",
    "\n",
    "\n"
   ]
  },
  {
   "cell_type": "code",
   "execution_count": 12,
   "metadata": {},
   "outputs": [],
   "source": [
    "#  Convert the 'Diameter_diam' and 'Diameter_wth' columns to numeric (float) type\n",
    "\n",
    "sites_nw_clean['Diameter_diam'] = pd.to_numeric(sites_nw_clean['Diameter_diam'], errors='coerce')\n",
    "sites_nw_clean['Diameter_wth'] = pd.to_numeric(sites_nw_clean['Diameter_wth'], errors='coerce')\n",
    "\n"
   ]
  },
  {
   "cell_type": "code",
   "execution_count": 13,
   "metadata": {},
   "outputs": [],
   "source": [
    "# Sum the diameter values from \"diam\" and \"wth\" and create a new 'Diameter' column\n",
    "sites_nw_clean['Diameter'] = sites_nw_clean['Diameter_diam'] + sites_nw_clean['Diameter_wth']\n",
    "\n",
    "\n",
    "# Replace NaN values in 'Diameter' with 0\n",
    "sites_nw_clean['Diameter'].fillna(0, inplace=True)"
   ]
  },
  {
   "cell_type": "code",
   "execution_count": 14,
   "metadata": {},
   "outputs": [],
   "source": [
    "# Drop the intermediate columns\n",
    "sites_nw_clean.drop(columns=['Diameter_diam', 'Diameter_wth'], inplace=True)\n"
   ]
  },
  {
   "cell_type": "code",
   "execution_count": 15,
   "metadata": {},
   "outputs": [
    {
     "data": {
      "text/plain": [
       "0       0.0\n",
       "1       0.0\n",
       "2       0.0\n",
       "3       0.0\n",
       "4       0.0\n",
       "       ... \n",
       "9480    0.0\n",
       "9481    0.0\n",
       "9482    0.0\n",
       "9483    0.0\n",
       "9484    0.0\n",
       "Name: Diameter, Length: 9485, dtype: float64"
      ]
     },
     "execution_count": 15,
     "metadata": {},
     "output_type": "execute_result"
    }
   ],
   "source": [
    "# Display the result\n",
    "sites_nw_clean['Diameter']"
   ]
  },
  {
   "cell_type": "code",
   "execution_count": null,
   "metadata": {},
   "outputs": [],
   "source": [
    "# Create a function to find words in a text, or import those ive alreafy written\n",
    "\n",
    "\n",
    "def find_words(text):\n",
    "    words_to_find = ['univallate', 'bivallate','trivallate','bi-vallate', 'tri-vallate', 'single ditch', 'double ditch', 'triple ditch', 'single bank', 'double bank', 'triple bank', 'single rampart', 'double rampart', 'triple rampart', 'triple enclosure']\n",
    "    found_words = [word for word in words_to_find if word in text]\n",
    "    return ', '.join(found_words)\n",
    "\n",
    "\n",
    "# Apply the function to create a new column 'found_words'\n",
    "sites_nw_clean['found_words'] = sites_nw_clean['WEB_NOTES'].apply(find_words)"
   ]
  },
  {
   "cell_type": "code",
   "execution_count": null,
   "metadata": {},
   "outputs": [],
   "source": [
    "sites_nw_clean['found_words'].value_counts()"
   ]
  },
  {
   "cell_type": "code",
   "execution_count": null,
   "metadata": {},
   "outputs": [],
   "source": [
    "# find row with 'trivallate' in 'found_words' column\n",
    "trivallate = sites_nw_clean[sites_nw_clean['found_words'] == 'trivallate']\n",
    "trivallate.head()"
   ]
  },
  {
   "cell_type": "code",
   "execution_count": null,
   "metadata": {},
   "outputs": [],
   "source": [
    "pd.DataFrame(filtered_points_2['MONUMENT_T'].value_counts()).plot.bar(width=0.5, figsize=(15,6))\n",
    "plt.show()"
   ]
  }
 ],
 "metadata": {
  "kernelspec": {
   "display_name": "artefactenv",
   "language": "python",
   "name": "python3"
  },
  "language_info": {
   "codemirror_mode": {
    "name": "ipython",
    "version": 3
   },
   "file_extension": ".py",
   "mimetype": "text/x-python",
   "name": "python",
   "nbconvert_exporter": "python",
   "pygments_lexer": "ipython3",
   "version": "3.11.5"
  }
 },
 "nbformat": 4,
 "nbformat_minor": 2
}
